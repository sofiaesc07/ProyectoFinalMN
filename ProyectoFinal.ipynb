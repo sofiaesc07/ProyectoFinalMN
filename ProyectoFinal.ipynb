{
 "cells": [
  {
   "attachments": {},
   "cell_type": "markdown",
   "metadata": {
    "id": "jVsRnROl6Tvh"
   },
   "source": [
    "- Ana Sofía Escobar - 20489\n",
    "- Wilfredo Gallegos\n",
    "- Stefan Quintana\n",
    "- Jorge Caballeros\n",
    "\n",
    "# Proyecto Final - Mineria de datos"
   ]
  },
  {
   "cell_type": "code",
   "execution_count": 67,
   "metadata": {
    "id": "KzacqAq86Tvm",
    "pycharm": {
     "name": "#%%\n"
    }
   },
   "outputs": [],
   "source": [
    "import pandas as pd\n",
    "import numpy as np\n",
    "from scipy.stats import contingency\n",
    "import seaborn as sns\n",
    "import matplotlib.pyplot as plt\n",
    "from sklearn.preprocessing import OrdinalEncoder\n",
    "from sklearn.model_selection import train_test_split\n",
    " \n",
    "\n",
    "plt.style.use('ggplot')\n"
   ]
  },
  {
   "cell_type": "code",
   "execution_count": 68,
   "metadata": {
    "id": "jg9dtf_XDV1m"
   },
   "outputs": [
    {
     "name": "stderr",
     "output_type": "stream",
     "text": [
      "C:\\Users\\anaso\\AppData\\Local\\Temp\\ipykernel_5936\\3553369772.py:2: DtypeWarning: Columns (7,12,18,22,26) have mixed types. Specify dtype option on import or set low_memory=False.\n",
      "  muertes = pd.read_csv('final.csv')\n"
     ]
    }
   ],
   "source": [
    "# Cargar los datos\n",
    "muertes = pd.read_csv('final.csv')\n",
    "# Quitar causa de muerte y edad ya que es información no necesaria\n",
    "muertes = muertes.loc[:, muertes.columns != 'Perdif']\n",
    "muertes = muertes.loc[:, muertes.columns != 'caudef.descrip']"
   ]
  },
  {
   "cell_type": "code",
   "execution_count": 69,
   "metadata": {
    "colab": {
     "base_uri": "https://localhost:8080/"
    },
    "id": "GW6EV-vQ6Tvo",
    "outputId": "9b95a639-60f7-47cb-fbed-99b228c31287",
    "pycharm": {
     "name": "#%%\n"
    }
   },
   "outputs": [
    {
     "data": {
      "text/plain": [
       "0         II\n",
       "1         UU\n",
       "2         RR\n",
       "3         PP\n",
       "4         UU\n",
       "          ..\n",
       "809291    AB\n",
       "809292    AB\n",
       "809293    AB\n",
       "809294    AB\n",
       "809295    AB\n",
       "Name: cause, Length: 809296, dtype: object"
      ]
     },
     "execution_count": 69,
     "metadata": {},
     "output_type": "execute_result"
    }
   ],
   "source": [
    "muertes['cause'] = muertes['Caudef'].copy()\n",
    "repl = {r'([AB])(\\d+.*)' : r'AB', r'(C)(\\d+.*)' : r'CD',  r'(D[0-4])(\\d+.*)' : r'CD', r'(D[5-8])(\\d+.*)' : r'DD', r'(E)(\\d+.*)' : r'EE',\n",
    "        r'(F)(\\d+.*)' : r'FF', r'(G)(\\d+.*)' : r'GG', r'(H[0-5])(\\d+.*)' : r'HA', r'(H[6-9])(\\d+.*)' : r'HB', r'(I)(\\d+.*)' : r'II',\n",
    "        r'(J)(\\d+.*)' : r'JJ', r'(K)(\\d+.*)' : r'KK', r'(L)(\\d+.*)' : r'LL', r'(M)(\\d+.*)' : r'MM', r'(N)(\\d+.*)' : r'NN',\n",
    "        r'(O)(\\d+.*)' : r'OO', r'(P)(\\d+.*)' : r'PP', r'(Q)(\\d+.*)' : r'QQ', r'(R)(\\d+.*)' : r'RR', r'([ST])(\\d+.*)' : r'ST',\n",
    "        r'([VWXY])(\\d+.*)' : r'VY', r'([Z])(\\d+.*)' : r'ZZ', r'([U])(\\d+.*)' : r'UU',\n",
    "        }\n",
    "muertes.cause = muertes['cause'].replace(repl, regex=True)\n",
    "muertes['cause']"
   ]
  },
  {
   "cell_type": "code",
   "execution_count": 70,
   "metadata": {
    "id": "Af7o0XiC5wEK"
   },
   "outputs": [],
   "source": [
    "# Eliminación de toda la información personal\n",
    "sample = muertes.drop(['Areag', 'Depreg', 'Mupreg', 'Mesreg', 'Añoreg','Mupocu',\n",
    "                      'Edadif','Puedif','Ecidif','Escodif','Ciuodif','Pnadif','Dnadif',\n",
    "                      'Mnadif', 'Nacdif', 'Predif', 'Dredif', 'Mredif', 'Sexo', 'Caudef'], axis=1)"
   ]
  },
  {
   "cell_type": "code",
   "execution_count": 71,
   "metadata": {
    "id": "BMlA8kam2-e-"
   },
   "outputs": [],
   "source": [
    "# Creación de la nueva variable de predicción\n",
    "# Variable de predicción: número de muertes por municipio_ocurrencia/mes_ocurrencia y causa\n",
    "sample = sample.groupby(by=['cause','Depocu', 'Mesocu', 'Diaocu', 'Añoocu', 'Asist', 'Ocur', 'Cerdef']).count()\n",
    "sample.columns = ['number_deaths']"
   ]
  },
  {
   "cell_type": "code",
   "execution_count": 72,
   "metadata": {
    "id": "4gG8xEcy-vuj"
   },
   "outputs": [],
   "source": [
    "# Nuevo conjunto de datos\n",
    "sample = sample.reset_index(level=['cause', 'Mesocu', 'Diaocu', 'Añoocu', 'Asist', 'Ocur','Cerdef','Depocu'])"
   ]
  },
  {
   "cell_type": "code",
   "execution_count": 73,
   "metadata": {
    "pycharm": {
     "name": "#%%\n"
    }
   },
   "outputs": [
    {
     "data": {
      "text/plain": [
       "<AxesSubplot: xlabel='number_deaths', ylabel='Count'>"
      ]
     },
     "execution_count": 73,
     "metadata": {},
     "output_type": "execute_result"
    },
    {
     "data": {
      "image/png": "[encoded data removed]",
      "text/plain": [
       "<Figure size 1500x800 with 1 Axes>"
      ]
     },
     "metadata": {},
     "output_type": "display_data"
    }
   ],
   "source": [
    "#Gráfica de la distribución de la variable objetivo\n",
    "plt.figure(figsize=(15, 8))\n",
    "sns.histplot(sample.number_deaths, color = 'hotpink')"
   ]
  },
  {
   "cell_type": "code",
   "execution_count": 74,
   "metadata": {
    "pycharm": {
     "name": "#%%\n"
    }
   },
   "outputs": [
    {
     "name": "stdout",
     "output_type": "stream",
     "text": [
      "cause             AB     CD    DD     EE    FF    GG  HA  HB     II     JJ  \\\n",
      "Depocu                                                                       \n",
      "Alta Verapaz    4589   3018   934   4106   116   682   6   4   4335   6433   \n",
      "Baja Verapaz     499   1284    57    951    51   203   3   0   2480   1547   \n",
      "Chimaltenango    830   2565   175   2368   417   348   0   0   3579   3630   \n",
      "Chiquimula       742   1836   146   1445    71   352   0   0   3790   2334   \n",
      "El Progreso      171   1187    26    873    35   146   0   0   2286    782   \n",
      "Escuintla       1834   3357   554   4522   180   798   0   3   5500   3612   \n",
      "Guatemala       6614  13306  1774  12850  1247  4004   5   7  15722  11156   \n",
      "Huehuetenango   2867   4038   265   3364   251   903   1   5   5281   5319   \n",
      "Izabal          1127   1518   166   1574    48   318   0   1   3293   1411   \n",
      "Jalapa           671   1516    74    948    49   487   0   0   2646   1728   \n",
      "Jutiapa          521   2740   130   2073   112   369   1   0   5776   1625   \n",
      "Peten            163    340    25    278     5    74   0   0    362    277   \n",
      "Petén            885   1513   120   1676    24   333   0   0   2199   1492   \n",
      "Quetzaltenango  2024   4100   614   5333   753  1266   2   2   5961   4087   \n",
      "Quiche           722    526    66    470    94   120   0   0    668   1085   \n",
      "Quiché          1935   2085   181   2073   377   647   4   4   2567   3437   \n",
      "Retalhuleu       630   1181   182   1313    65   286   0   1   1693   1090   \n",
      "Sacatepequez     133    349    30    389    55    60   0   0    531    377   \n",
      "Sacatepéquez     389   1519   118   2130   244   290   0   3   2185   1378   \n",
      "San Marcos      2565   3585   290   3574   531   891   0   2   5323   5125   \n",
      "Santa Rosa       836   1920   191   1699   136   438   0   0   3746   1759   \n",
      "Solola           165    188    12    246    37    64   0   0    298    575   \n",
      "Sololá           915   1081   106   1583   200   263   0   1   1509   2155   \n",
      "Suchitepequez    960   1853   286   2220    88   531   0   1   2163   1950   \n",
      "Totonicapan      280    200     9    236    50    86   0   0    474    868   \n",
      "Totonicapán      969    876    85   1348   276   349   0   1   1474   2120   \n",
      "Zacapa           483   1490   113   1354    61   278   0   0   3578   1153   \n",
      "\n",
      "cause              KK   LL    MM    NN   OO    PP    QQ    RR   UU     VY  \n",
      "Depocu                                                                     \n",
      "Alta Verapaz     3518  127   145  1238  339  2943   951  1502  103   4086  \n",
      "Baja Verapaz      695   17    67   294   37   342   171   709   44   1348  \n",
      "Chimaltenango    2704   30   124   925   85  1762   439  1496  100   3085  \n",
      "Chiquimula       1231   18    69   502   74   287   186   842   70   3548  \n",
      "El Progreso       360   11    18   174   13   112    64   381   44   1432  \n",
      "Escuintla        2513   52    82  2294   90  1250   452  3517  241   8019  \n",
      "Guatemala       11505  543  1124  8274  453  4928  4063  9488  866  17078  \n",
      "Huehuetenango    3024   55   138  1718  542  1399   586  1897  207   4601  \n",
      "Izabal           1169   32    38   841   80   350   122  1776  148   3461  \n",
      "Jalapa            806   48    44   353   31   368   158  1600   15   2227  \n",
      "Jutiapa          1132   27    50   817   29   307   322   716   66   3352  \n",
      "Peten             149    6    13    86   23    71    26   360    0    852  \n",
      "Petén             976   29    59   425   95   461   198  1040  132   3330  \n",
      "Quetzaltenango   4077   66   228  1975  254  1836  1022  2682  478   5653  \n",
      "Quiche            477    9    19   199   71   249    88   621    0    754  \n",
      "Quiché           1877   75   114   811  206  1151   460  3530  107   2710  \n",
      "Retalhuleu       1074   21    38  1051   28   259   144  2377   72   1886  \n",
      "Sacatepequez      339    5    15    79    3   108    56   156    0    359  \n",
      "Sacatepéquez     1449   34    88   524   27   426   299  1072  192   1497  \n",
      "San Marcos       3247   61   134  1511  198  1287   448  2915  181   4001  \n",
      "Santa Rosa       1216   37    60   927   81   794   463  1979   79   3830  \n",
      "Solola            234    4    18    94   12   174    33   328    0    353  \n",
      "Sololá           1161   18    74   512   42   791   230  1745   93   1651  \n",
      "Suchitepequez    1649   49    59  1468   52   923   337  4567  154   3037  \n",
      "Totonicapan       319    5    20    80   25   188    38   461    0    365  \n",
      "Totonicapán      1367   40   107   434   50   619   177  2556  100   1502  \n",
      "Zacapa            791   29    52   365   21   188   170   349  118   2649  \n",
      "Asociación:  0.06992729854257394\n",
      "cause         AB    CD   DD    EE   FF    GG  HA  HB    II    JJ    KK   LL  \\\n",
      "Mesocu                                                                        \n",
      "Abril       3025  4882  592  5027  470  1264   1   3  7242  6034  3940  136   \n",
      "Agosto      2902  5044  557  5218  455  1211   3   1  7634  5705  4146  106   \n",
      "Diciembre   2683  5078  599  5316  476  1146   3   3  7851  5565  4301  123   \n",
      "Enero       2742  4909  545  5112  503  1201   2   5  7879  6043  4328  108   \n",
      "Febrero     2631  4561  491  4579  400  1141   5   2  6911  5310  3675   89   \n",
      "Julio       3181  5112  617  5433  484  1342   2   1  7707  5876  4200  142   \n",
      "Junio       3092  4983  580  5046  453  1220   2   7  7125  5463  4074  133   \n",
      "Marzo       2957  4957  573  5050  421  1256   0   3  7598  5985  4013   94   \n",
      "Mayo        3115  4906  538  5063  480  1251   0   1  7261  5779  4049  132   \n",
      "Noviembre   2618  4784  547  4976  476  1162   1   5  7404  5475  4078  127   \n",
      "Octubre     2832  5112  544  5227  457  1248   1   2  7479  5713  4233  120   \n",
      "Septiembre  2741  4843  546  4949  498  1144   2   2  7328  5557  4022  138   \n",
      "\n",
      "cause        MM    NN   OO    PP    QQ    RR   UU    VY  \n",
      "Mesocu                                                   \n",
      "Abril       259  2284  214  1875   962  4096   17  7128  \n",
      "Agosto      239  2382  264  2120  1085  4356  755  7196  \n",
      "Diciembre   254  2497  267  1867   905  4575  306  7785  \n",
      "Enero       264  2305  257  1952   957  4277    0  7363  \n",
      "Febrero     231  2100  216  1740   875  3753    0  6704  \n",
      "Julio       240  2469  246  2055  1020  4410  829  7451  \n",
      "Junio       258  2269  222  1977   983  4129  288  7027  \n",
      "Marzo       246  2356  239  1985   987  4123    2  7461  \n",
      "Mayo        243  2276  242  1975  1064  4074   95  7176  \n",
      "Noviembre   255  2328  261  1941   948  4235  325  6976  \n",
      "Octubre     266  2380  285  2033   987  4383  446  7230  \n",
      "Septiembre  242  2325  248  2053   930  4251  547  7169  \n",
      "Asociación:  0.023259547650057017\n",
      "cause     AB    CD   DD    EE   FF   GG  HA  HB    II    JJ    KK  LL   MM  \\\n",
      "Diaocu                                                                       \n",
      "1       1206  1985  216  2069  198  500   1   4  2989  2315  1642  58  112   \n",
      "2       1112  1996  237  2037  204  466   2   2  2926  2327  1601  52  111   \n",
      "3       1123  1962  236  2039  170  451   2   0  2964  2303  1606  49   89   \n",
      "4       1126  1887  234  2009  201  488   0   0  3016  2282  1646  37  103   \n",
      "5       1156  1952  213  2047  208  505   0   1  2952  2265  1600  46   94   \n",
      "6       1131  1911  224  2077  198  511   1   0  2941  2307  1652  40  119   \n",
      "7       1133  1880  211  1966  198  478   0   2  2915  2272  1639  40   86   \n",
      "8       1135  1855  239  1938  200  525   0   1  2917  2253  1667  52  103   \n",
      "9       1119  1917  214  1989  187  455   0   1  2900  2226  1593  47   84   \n",
      "10      1176  1983  234  2024  203  493   2   0  2967  2341  1668  37   84   \n",
      "11      1136  1923  210  2040  161  464   0   1  2939  2275  1640  60   95   \n",
      "12      1161  1912  220  2021  199  498   0   0  2935  2208  1656  59   88   \n",
      "13      1153  1865  243  1974  187  443   1   1  3010  2252  1637  51   83   \n",
      "14      1139  1967  202  1966  181  463   1   0  2909  2248  1524  40  121   \n",
      "15      1174  1930  224  2019  146  486   0   1  2901  2254  1567  32  100   \n",
      "16      1131  1975  236  1999  191  410   0   1  2923  2206  1664  48  105   \n",
      "17      1096  2006  193  2030  204  495   4   1  2958  2229  1654  43  107   \n",
      "18      1100  1900  228  1991  187  529   0   0  2986  2198  1553  50  100   \n",
      "19      1133  1970  204  1933  171  502   1   1  2893  2233  1603  47  100   \n",
      "20      1182  1975  273  2012  167  482   0   3  2933  2159  1604  59  117   \n",
      "21      1127  1897  211  1960  140  471   2   3  2907  2149  1580  53  109   \n",
      "22      1103  1926  221  1969  201  478   1   0  2914  2281  1659  55  103   \n",
      "23      1138  1954  215  1990  178  486   0   3  2914  2308  1596  52   94   \n",
      "24      1103  1987  227  2023  191  477   0   0  2964  2237  1598  50   85   \n",
      "25      1129  1956  234  1914  167  486   1   1  2906  2307  1603  47   88   \n",
      "26      1127  1977  198  1989  180  492   1   2  2923  2221  1561  42  105   \n",
      "27      1130  1964  194  2052  170  443   1   0  2919  2212  1578  45  100   \n",
      "28      1124  1996  237  2035  170  445   0   0  2957  2288  1577  46   86   \n",
      "29      1058  1815  195  1855  172  431   1   2  2771  2060  1448  52   78   \n",
      "30      1034  1843  189  1869  153  457   0   3  2655  1998  1499  35   95   \n",
      "31       624  1105  117  1160   90  276   0   1  1715  1291   944  24   53   \n",
      "\n",
      "cause    NN   OO   PP   QQ    RR   UU    VY  \n",
      "Diaocu                                       \n",
      "1       969   88  729  410  1685  122  3181  \n",
      "2       909   96  767  402  1692  116  3013  \n",
      "3       958   99  750  393  1658  119  2862  \n",
      "4       895  100  724  385  1734  118  2855  \n",
      "5       957  107  740  399  1684  107  2898  \n",
      "6       885  107  808  386  1685  120  2776  \n",
      "7       949   91  772  391  1657  112  2788  \n",
      "8       945   86  760  386  1588  122  2766  \n",
      "9       941   97  753  381  1673  120  2785  \n",
      "10      909   88  786  397  1705  109  2762  \n",
      "11      906   96  800  360  1662  113  2777  \n",
      "12      950  112  805  392  1608  118  2820  \n",
      "13      900  104  800  374  1651  113  2763  \n",
      "14      889   93  826  386  1710  111  2848  \n",
      "15      939  103  798  395  1666  127  2926  \n",
      "16      909  101  815  377  1646  122  2976  \n",
      "17      878  105  769  377  1666  124  2854  \n",
      "18      866  105  752  369  1660  119  2767  \n",
      "19      914   99  824  361  1684  120  2737  \n",
      "20      901   94  782  414  1672  104  2827  \n",
      "21      902   95  789  365  1574  114  2811  \n",
      "22      948   82  778  359  1649  121  2738  \n",
      "23      876   97  753  391  1659  126  2902  \n",
      "24      890   85  759  372  1662  110  2854  \n",
      "25      925  100  739  401  1755  133  3023  \n",
      "26      912  109  819  399  1629  115  2833  \n",
      "27      935   93  810  390  1714  140  2845  \n",
      "28      887   95  758  371  1608  121  2822  \n",
      "29      933   83  699  348  1528  111  2679  \n",
      "30      851   94  695  353  1574  114  2576  \n",
      "31      543   57  414  219   924   69  1602  \n",
      "Asociación:  0.007122868856269507\n",
      "cause     AB    CD   DD    EE   FF    GG  HA  HB    II    JJ    KK   LL   MM  \\\n",
      "Añoocu                                                                         \n",
      "2011    3769  5851  655  5431  581  1471   0   0  8295  7055  4456   69  220   \n",
      "2012    3494  6033  650  5576  461  1275   0   1  8559  6740  4584   88  243   \n",
      "2013    3756  6007  607  5827  509  1315   0   1  8929  7555  4599   50  231   \n",
      "2014    3812  6085  686  6105  446  1319   0   1  9219  7056  5018   55  268   \n",
      "2015    3471  6099  724  6265  688  1482   6   8  9277  7620  5163  222  361   \n",
      "2016    3656  5909  742  6083  539  1509   3   4  9124  7424  5247  229  334   \n",
      "2017    3270  5871  698  5951  573  1500   1   4  8828  7195  4841  178  350   \n",
      "2018    2978  5659  663  6072  576  1529   5   4  8530  6450  4920  221  324   \n",
      "2019    3393  5667  692  6240  596  1545   5   8  8838  6628  5083  197  322   \n",
      "2020    2920  5990  612  7446  604  1641   2   4  9820  4782  5148  139  344   \n",
      "\n",
      "cause     NN   OO    PP    QQ    RR    UU    VY  \n",
      "Añoocu                                           \n",
      "2011    2186  306  2112  1008  4193     0  9252  \n",
      "2012    2416  356  2166  1131  3984     0  9067  \n",
      "2013    2636  329  2404  1241  4128     0  9239  \n",
      "2014    2903  300  2527  1283  3929     0  9076  \n",
      "2015    2840  311  2587  1220  5377     0  9080  \n",
      "2016    2761  302  2561  1254  5583     0  8442  \n",
      "2017    2800  268  2541  1159  5478     0  8424  \n",
      "2018    2907  288  2456  1234  5653     0  8489  \n",
      "2019    3065  245  2422  1236  5869     0  8310  \n",
      "2020    3457  256  1797   937  6468  3610  7287  \n",
      "Asociación:  0.08109957897370261\n",
      "cause          AB     CD    DD     EE    FF    GG  HA  HB     II     JJ  \\\n",
      "Asist                                                                     \n",
      "Comadrona      41     28     7     24     2     3   0   0     22     47   \n",
      "Empírica     1919   1556   404   2152   117   322   2   0   2970   3130   \n",
      "Ignorado      164    443    18    481    31    80   0   0    981    562   \n",
      "Médica      13713  25848  4216  31267  2341  7593   7  17  38350  25147   \n",
      "Ninguna     18526  31095  2062  26812  3059  6552  13  18  46694  39305   \n",
      "Paramédica    156    201    22    260    23    36   0   0    402    314   \n",
      "\n",
      "cause          KK   LL    MM     NN    OO     PP    QQ     RR    UU     VY  \n",
      "Asist                                                                       \n",
      "Comadrona      23    1     2     11   152    182    23     43     0     17  \n",
      "Empírica     1661   35    64    719    91    313   173   1068    16    616  \n",
      "Ignorado      519    9     8    174    16     44    30    762    18   4366  \n",
      "Médica      23003  821  1726  15046  1750  17988  8907  14186  3223  28625  \n",
      "Ninguna     23679  582  1187  11953   906   4937  2542  34421   342  52081  \n",
      "Paramédica    174    0    10     68    46    109    28    182    11    961  \n",
      "Asociación:  0.13624134272093555\n",
      "cause                AB     CD    DD     EE    FF    GG  HA  HB     II     JJ  \\\n",
      "Ocur                                                                            \n",
      "Centro de salud      92     28    16    110    11    26   0   0    222    228   \n",
      "Domicilio         22719  46991  3264  41566  4133  9293  17  20  66405  51377   \n",
      "Hospital privado   1160   2613   252   2954   125   401   0   2   3717   1989   \n",
      "Hospital público   8158   5265  2568  11324   988  3655   5  11  11962  10214   \n",
      "Ignorado            458   1169    79   1128   141   234   0   0   1913   1264   \n",
      "Lugar de trabajo      1      1     0      2     0     0   0   0      8      2   \n",
      "Otro                138    212    33    261    56   127   0   0    830    349   \n",
      "Seguro social      1760   2805   505   3582   105   813   0   2   3970   2804   \n",
      "Vía pública          33     87    12     69    14    37   0   0    392    278   \n",
      "\n",
      "cause                KK   LL    MM     NN    OO     PP    QQ     RR    UU  \\\n",
      "Ocur                                                                        \n",
      "Centro de salud      67    2     1     24    54    259    64    109    21   \n",
      "Domicilio         33361  834  1843  17884  1233   6143  3566  41684   698   \n",
      "Hospital privado   1984   50   132   1072    96    537   385    875   235   \n",
      "Hospital público   9638  388   733   6142  1367  14444  6021   4823  1924   \n",
      "Ignorado            808   19    31    369    35    200    95   1367    26   \n",
      "Lugar de trabajo      1    0     0      0     0      0     0      4     0   \n",
      "Otro                289    5     9     72    31     64    23    570    17   \n",
      "Seguro social      2559  149   247   2373   120   1899  1534    935   687   \n",
      "Vía pública         352    1     1     35    25     27    15    295     2   \n",
      "\n",
      "cause                VY  \n",
      "Ocur                     \n",
      "Centro de salud     845  \n",
      "Domicilio          9471  \n",
      "Hospital privado   1505  \n",
      "Hospital público  19402  \n",
      "Ignorado          28233  \n",
      "Lugar de trabajo     41  \n",
      "Otro               7370  \n",
      "Seguro social      3473  \n",
      "Vía pública       16326  \n",
      "Asociación:  0.2627742876188651\n",
      "cause          AB     CD    DD     EE    FF    GG  HA  HB     II     JJ  \\\n",
      "Cerdef                                                                    \n",
      "Autoridad     229    373    23    306    37   109   0   0    405    595   \n",
      "Ignorado    14123  23197  1584  21556  2251  5246   8  16  32939  27788   \n",
      "Medico       2144   3896   463   3845   319   872   0   1   5837   3993   \n",
      "Médico      17456  31044  4502  34630  2911  8213  14  18  49324  34773   \n",
      "Paramedico    127    136    59    153    12    44   0   0    198    311   \n",
      "Paramédico    440    525    98    506    43   102   0   0    716   1045   \n",
      "\n",
      "cause          KK   LL    MM     NN    OO     PP    QQ     RR    UU     VY  \n",
      "Cerdef                                                                      \n",
      "Autoridad     348   21    15    137    12     90    36   1535     0    472  \n",
      "Ignorado    17920  500   969   9490   837   3886  1822  29264   986  32609  \n",
      "Medico       3084   55   160   1693   241   1802   963   1734     0   6284  \n",
      "Médico      27070  863  1827  16362  1810  17655  8817  17640  2624  46922  \n",
      "Paramedico    136    2    13     66    24     46    15     95     0    111  \n",
      "Paramédico    501    7    13    223    37     94    50    394     0    268  \n",
      "Asociación:  0.09006786639177172\n",
      "cause             AB     CD    DD     EE    FF     GG  HA  HB     II     JJ  \\\n",
      "number_deaths                                                                 \n",
      "1              29147  46401  6462  48549  5406  13544  22  35  66445  52719   \n",
      "2               4165   8169   243   8163   163    923   0   0  14325  10903   \n",
      "3                907   2276    24   2336     4    106   0   0   4596   3343   \n",
      "4                230    988     0    936     0     13   0   0   1895   1073   \n",
      "5                 57    559     0    474     0      0   0   0    984    339   \n",
      "6                 11    334     0    270     0      0   0   0    511     82   \n",
      "7                  2    222     0    115     0      0   0   0    278     36   \n",
      "8                  0    107     0     49     0      0   0   0    163      8   \n",
      "9                  0     66     0     36     0      0   0   0     96      2   \n",
      "10                 0     25     0     13     0      0   0   0     49      0   \n",
      "11                 0     15     0     13     0      0   0   0     25      0   \n",
      "12                 0      8     0      8     0      0   0   0     14      0   \n",
      "13                 0      1     0      5     0      0   0   0     10      0   \n",
      "14                 0      0     0      3     0      0   0   0      6      0   \n",
      "15                 0      0     0      8     0      0   0   0      7      0   \n",
      "16                 0      0     0      2     0      0   0   0      6      0   \n",
      "17                 0      0     0      3     0      0   0   0      3      0   \n",
      "18                 0      0     0      4     0      0   0   0      2      0   \n",
      "19                 0      0     0      1     0      0   0   0      2      0   \n",
      "20                 0      0     0      2     0      0   0   0      0      0   \n",
      "21                 0      0     0      4     0      0   0   0      0      0   \n",
      "22                 0      0     0      0     0      0   0   0      0      0   \n",
      "23                 0      0     0      0     0      0   0   0      2      0   \n",
      "24                 0      0     0      1     0      0   0   0      0      0   \n",
      "25                 0      0     0      1     0      0   0   0      0      0   \n",
      "26                 0      0     0      0     0      0   0   0      0      0   \n",
      "27                 0      0     0      0     0      0   0   0      0      0   \n",
      "28                 0      0     0      0     0      0   0   0      0      0   \n",
      "30                 0      0     0      0     0      0   0   0      0      0   \n",
      "32                 0      0     0      0     0      0   0   0      0      0   \n",
      "34                 0      0     0      0     0      0   0   0      0      0   \n",
      "36                 0      0     0      0     0      0   0   0      0      0   \n",
      "40                 0      0     0      0     0      0   0   0      0      0   \n",
      "41                 0      0     0      0     0      0   0   0      0      0   \n",
      "45                 0      0     0      0     0      0   0   0      0      0   \n",
      "\n",
      "cause             KK    LL    MM     NN    OO     PP     QQ     RR    UU  \\\n",
      "number_deaths                                                              \n",
      "1              40419  1433  2931  23619  2913  19527  10466  35052  2376   \n",
      "2               6186    15    66   3127    47   2955    988   8065   540   \n",
      "3               1598     0     0    863     1    763    198   3608   238   \n",
      "4                572     0     0    239     0    225     47   1846   131   \n",
      "5                196     0     0     84     0     77      2   1002    55   \n",
      "6                 65     0     0     33     0     21      1    533    58   \n",
      "7                 14     0     0      3     0      4      1    270    32   \n",
      "8                  7     0     0      1     0      1      0    144    33   \n",
      "9                  0     0     0      1     0      0      0     62    22   \n",
      "10                 2     0     0      1     0      0      0     31    13   \n",
      "11                 0     0     0      0     0      0      0     14     8   \n",
      "12                 0     0     0      0     0      0      0     14    11   \n",
      "13                 0     0     0      0     0      0      0      1    16   \n",
      "14                 0     0     0      0     0      0      0      5    14   \n",
      "15                 0     0     0      0     0      0      0      2    11   \n",
      "16                 0     0     0      0     0      0      0      2     7   \n",
      "17                 0     0     0      0     0      0      0      4     5   \n",
      "18                 0     0     0      0     0      0      0      1     9   \n",
      "19                 0     0     0      0     0      0      0      3     7   \n",
      "20                 0     0     0      0     0      0      0      1     3   \n",
      "21                 0     0     0      0     0      0      0      0     0   \n",
      "22                 0     0     0      0     0      0      0      0     4   \n",
      "23                 0     0     0      0     0      0      0      0     5   \n",
      "24                 0     0     0      0     0      0      0      0     1   \n",
      "25                 0     0     0      0     0      0      0      0     1   \n",
      "26                 0     0     0      0     0      0      0      0     1   \n",
      "27                 0     0     0      0     0      0      0      0     4   \n",
      "28                 0     0     0      0     0      0      0      0     2   \n",
      "30                 0     0     0      0     0      0      0      0     2   \n",
      "32                 0     0     0      0     0      0      0      0     1   \n",
      "34                 0     0     0      0     0      0      0      0     0   \n",
      "36                 0     0     0      0     0      0      0      0     0   \n",
      "40                 0     0     0      0     0      0      0      1     0   \n",
      "41                 0     0     0      0     0      0      0      1     0   \n",
      "45                 0     0     0      0     0      0      0      0     0   \n",
      "\n",
      "cause             VY  \n",
      "number_deaths         \n",
      "1              69325  \n",
      "2              10847  \n",
      "3               3138  \n",
      "4               1417  \n",
      "5                875  \n",
      "6                507  \n",
      "7                271  \n",
      "8                134  \n",
      "9                 80  \n",
      "10                31  \n",
      "11                11  \n",
      "12                 8  \n",
      "13                 6  \n",
      "14                 4  \n",
      "15                 3  \n",
      "16                 0  \n",
      "17                 2  \n",
      "18                 1  \n",
      "19                 0  \n",
      "20                 0  \n",
      "21                 0  \n",
      "22                 0  \n",
      "23                 0  \n",
      "24                 0  \n",
      "25                 1  \n",
      "26                 0  \n",
      "27                 1  \n",
      "28                 0  \n",
      "30                 0  \n",
      "32                 0  \n",
      "34                 1  \n",
      "36                 1  \n",
      "40                 1  \n",
      "41                 0  \n",
      "45                 1  \n",
      "Asociación:  0.04844590855161701\n"
     ]
    }
   ],
   "source": [
    "# Evaluar la correlación de las variables\n",
    "for column in sample.columns:\n",
    "  if column != 'cause':\n",
    "    crosstable = pd.crosstab(sample[column], sample['cause'])\n",
    "    print(crosstable)\n",
    "    print('Asociación: ', contingency.association(crosstable))"
   ]
  },
  {
   "cell_type": "code",
   "execution_count": 75,
   "metadata": {
    "pycharm": {
     "name": "#%%\n"
    }
   },
   "outputs": [],
   "source": [
    "# Eliminando las variables correlacionadas\n",
    "sample = sample.drop(['Asist', 'Diaocu', 'Cerdef'], axis=1)"
   ]
  },
  {
   "cell_type": "code",
   "execution_count": 76,
   "metadata": {
    "pycharm": {
     "name": "#%%\n"
    }
   },
   "outputs": [],
   "source": [
    "# Agrupando nuevamente\n",
    "sample = sample.groupby(['cause', 'Ocur','Depocu', 'Añoocu', 'Mesocu']).count()\n",
    "sample = sample.reset_index(level=['cause', 'Ocur','Depocu', 'Añoocu', 'Mesocu'])"
   ]
  },
  {
   "cell_type": "code",
   "execution_count": 77,
   "metadata": {
    "pycharm": {
     "name": "#%%\n"
    }
   },
   "outputs": [
    {
     "data": {
      "text/plain": [
       "0        1\n",
       "1        1\n",
       "2        1\n",
       "3        1\n",
       "4        1\n",
       "        ..\n",
       "93232    3\n",
       "93233    3\n",
       "93234    2\n",
       "93235    3\n",
       "93236    3\n",
       "Name: number_deaths, Length: 93237, dtype: int64"
      ]
     },
     "execution_count": 77,
     "metadata": {},
     "output_type": "execute_result"
    },
    {
     "data": {
      "image/png": "[encoded data removed]",
      "text/plain": [
       "<Figure size 1200x1000 with 1 Axes>"
      ]
     },
     "metadata": {},
     "output_type": "display_data"
    }
   ],
   "source": [
    "plt.figure(figsize=(12, 10))\n",
    "sns.histplot(sample.number_deaths, color = 'hotpink')\n",
    "plt.title('Distribución del número de muertes en el set de datos', fontsize = 10, fontweight = \"bold\")\n",
    "sample.number_deaths"
   ]
  },
  {
   "cell_type": "code",
   "execution_count": 78,
   "metadata": {
    "pycharm": {
     "name": "#%%\n"
    }
   },
   "outputs": [
    {
     "name": "stdout",
     "output_type": "stream",
     "text": [
      "[array(['AB', 'CD', 'DD', 'EE', 'FF', 'GG', 'HA', 'HB', 'II', 'JJ', 'KK',\n",
      "       'LL', 'MM', 'NN', 'OO', 'PP', 'QQ', 'RR', 'UU', 'VY'], dtype=object)]\n",
      "[array(['Centro de salud', 'Domicilio', 'Hospital privado',\n",
      "       'Hospital público', 'Ignorado', 'Lugar de trabajo', 'Otro',\n",
      "       'Seguro social', 'Vía pública'], dtype=object)]\n",
      "[array(['Alta Verapaz', 'Baja Verapaz', 'Chimaltenango', 'Chiquimula',\n",
      "       'El Progreso', 'Escuintla', 'Guatemala', 'Huehuetenango', 'Izabal',\n",
      "       'Jalapa', 'Jutiapa', 'Peten', 'Petén', 'Quetzaltenango', 'Quiche',\n",
      "       'Quiché', 'Retalhuleu', 'Sacatepequez', 'Sacatepéquez',\n",
      "       'San Marcos', 'Santa Rosa', 'Solola', 'Sololá', 'Suchitepequez',\n",
      "       'Totonicapan', 'Totonicapán', 'Zacapa'], dtype=object)]\n",
      "[array([2011, 2012, 2013, 2014, 2015, 2016, 2017, 2018, 2019, 2020],\n",
      "      dtype=int64)]\n",
      "[array(['Abril', 'Agosto', 'Diciembre', 'Enero', 'Febrero', 'Julio',\n",
      "       'Junio', 'Marzo', 'Mayo', 'Noviembre', 'Octubre', 'Septiembre'],\n",
      "      dtype=object)]\n"
     ]
    }
   ],
   "source": [
    "# Codificación de las variables\n",
    "codificacion = OrdinalEncoder(dtype=int)\n",
    "for column in sample.columns:\n",
    "        if column != 'number_deaths':\n",
    "                sample[column] = codificacion.fit_transform(sample[[column]])\n",
    "                print(codificacion.categories_)"
   ]
  },
  {
   "cell_type": "code",
   "execution_count": 79,
   "metadata": {
    "pycharm": {
     "name": "#%%\n"
    }
   },
   "outputs": [],
   "source": [
    "# Variables  predecir\n",
    "target = sample.number_deaths\n",
    "predictors = sample.loc[:, sample.columns != 'number_deaths']\n",
    "# Conjuntos de entrenamiento y prueba\n",
    "predictors_train, predictors_test, target_train, target_test = train_test_split(predictors, target, test_size=0.33,\n",
    "                                                                                stratify=predictors['cause'], random_state=190243)"
   ]
  }
 ],
 "metadata": {
  "colab": {
   "name": "Copia de predictions.ipynb",
   "provenance": [],
   "toc_visible": true
  },
  "kernelspec": {
   "display_name": "Python 3 (ipykernel)",
   "language": "python",
   "name": "python3"
  },
  "language_info": {
   "codemirror_mode": {
    "name": "ipython",
    "version": 3
   },
   "file_extension": ".py",
   "mimetype": "text/x-python",
   "name": "python",
   "nbconvert_exporter": "python",
   "pygments_lexer": "ipython3",
   "version": "3.11.1"
  }
 },
 "nbformat": 4,
 "nbformat_minor": 1
}
